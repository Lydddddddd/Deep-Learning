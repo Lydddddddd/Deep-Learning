{
  "nbformat": 4,
  "nbformat_minor": 0,
  "metadata": {
    "colab": {
      "name": "ML2021Spring - HW1.ipynb",
      "provenance": [],
      "include_colab_link": true
    },
    "kernelspec": {
      "name": "python3",
      "display_name": "Python 3"
    },
    "accelerator": "GPU"
  },
  "cells": [
    {
      "cell_type": "markdown",
      "metadata": {
        "id": "view-in-github",
        "colab_type": "text"
      },
      "source": [
        "<a href=\"https://colab.research.google.com/github/Lydddddddd/Deep-Learning/blob/main/HW01/HW01.ipynb\" target=\"_parent\"><img src=\"https://colab.research.google.com/assets/colab-badge.svg\" alt=\"Open In Colab\"/></a>"
      ]
    },
    {
      "cell_type": "markdown",
      "metadata": {
        "id": "mz0_QVkxCrX3"
      },
      "source": [
        "# **Homework 1: COVID-19 Cases Prediction (Regression)**"
      ]
    },
    {
      "cell_type": "markdown",
      "metadata": {
        "id": "ZeZnPAiwDRWG"
      },
      "source": [
        "Author: Heng-Jui Chang\n",
        "\n",
        "Slides: https://github.com/ga642381/ML2021-Spring/blob/main/HW01/HW01.pdf  \n",
        "Videos (Mandarin): https://cool.ntu.edu.tw/courses/4793/modules/items/172854  \n",
        "https://cool.ntu.edu.tw/courses/4793/modules/items/172853  \n",
        "Video (English): https://cool.ntu.edu.tw/courses/4793/modules/items/176529\n",
        "\n",
        "\n",
        "Objectives:\n",
        "* Solve a regression problem with deep neural networks (DNN).\n",
        "* Understand basic DNN training tips.\n",
        "* Get familiar with PyTorch.\n",
        "\n",
        "If any questions, please contact the TAs via TA hours, NTU COOL, or email.\n"
      ]
    },
    {
      "cell_type": "markdown",
      "metadata": {
        "id": "Jx3x1nDkG-Uy"
      },
      "source": [
        "# **Download Data**\n",
        "\n",
        "\n",
        "If the Google drive links are dead, you can download data from [kaggle](https://www.kaggle.com/c/ml2021spring-hw1/data), and upload data manually to the workspace."
      ]
    },
    {
      "cell_type": "code",
      "metadata": {
        "colab": {
          "base_uri": "https://localhost:8080/"
        },
        "id": "tMj55YDKG6ch",
        "outputId": "5b97f281-3fc0-499d-a96a-21fc15e8f1c6"
      },
      "source": [
        "tr_path = 'covid.train.csv'  # path to training data\n",
        "tt_path = 'covid.test.csv'   # path to testing data\n",
        "\n",
        "!gdown --id '19CCyCgJrUxtvgZF53vnctJiOJ23T5mqF' --output covid.train.csv\n",
        "!gdown --id '1CE240jLm2npU-tdz81-oVKEF3T2yfT1O' --output covid.test.csv"
      ],
      "execution_count": 3,
      "outputs": [
        {
          "output_type": "stream",
          "name": "stdout",
          "text": [
            "/usr/local/lib/python3.10/dist-packages/gdown/__main__.py:140: FutureWarning: Option `--id` was deprecated in version 4.3.1 and will be removed in 5.0. You don't need to pass it anymore to use a file ID.\n",
            "  warnings.warn(\n",
            "Downloading...\n",
            "From: https://drive.google.com/uc?id=19CCyCgJrUxtvgZF53vnctJiOJ23T5mqF\n",
            "To: /content/covid.train.csv\n",
            "100% 2.00M/2.00M [00:00<00:00, 188MB/s]\n",
            "/usr/local/lib/python3.10/dist-packages/gdown/__main__.py:140: FutureWarning: Option `--id` was deprecated in version 4.3.1 and will be removed in 5.0. You don't need to pass it anymore to use a file ID.\n",
            "  warnings.warn(\n",
            "Downloading...\n",
            "From: https://drive.google.com/uc?id=1CE240jLm2npU-tdz81-oVKEF3T2yfT1O\n",
            "To: /content/covid.test.csv\n",
            "100% 651k/651k [00:00<00:00, 138MB/s]\n"
          ]
        }
      ]
    },
    {
      "cell_type": "markdown",
      "metadata": {
        "id": "wS_4-77xHk44"
      },
      "source": [
        "# **Import Some Packages**"
      ]
    },
    {
      "cell_type": "code",
      "metadata": {
        "id": "k-onQd4JNA5H"
      },
      "source": [
        "# PyTorch\n",
        "import torch\n",
        "import torch.nn as nn\n",
        "from torch.utils.data import Dataset, DataLoader\n",
        "\n",
        "# For data preprocess\n",
        "import numpy as np\n",
        "import csv\n",
        "import os\n",
        "\n",
        "# For plotting\n",
        "import matplotlib.pyplot as plt\n",
        "from matplotlib.pyplot import figure\n",
        "\n",
        "myseed = 42069  # set a random seed for reproducibility\n",
        "torch.backends.cudnn.deterministic = True\n",
        "torch.backends.cudnn.benchmark = False\n",
        "np.random.seed(myseed)\n",
        "torch.manual_seed(myseed)\n",
        "if torch.cuda.is_available():\n",
        "    torch.cuda.manual_seed_all(myseed)"
      ],
      "execution_count": 13,
      "outputs": []
    },
    {
      "cell_type": "markdown",
      "metadata": {
        "id": "BtE3b6JEH7rw"
      },
      "source": [
        "# **Some Utilities**\n",
        "\n",
        "You do not need to modify this part."
      ]
    },
    {
      "cell_type": "code",
      "metadata": {
        "id": "FWMT3uf1NGQp"
      },
      "source": [
        "def get_device():\n",
        "    ''' Get device (if GPU is available, use GPU) '''\n",
        "    print('cuda' if torch.cuda.is_available() else 'cpu')\n",
        "    return 'cuda' if torch.cuda.is_available() else 'cpu'\n",
        "\n",
        "def plot_learning_curve(loss_record, title=''):\n",
        "    ''' Plot learning curve of your DNN (train & dev loss) '''\n",
        "    total_steps = len(loss_record['train'])\n",
        "    x_1 = range(total_steps)\n",
        "    x_2 = x_1[::len(loss_record['train']) // len(loss_record['dev'])]\n",
        "    figure(figsize=(6, 4))\n",
        "    plt.plot(x_1, loss_record['train'], c='tab:red', label='train')\n",
        "    plt.plot(x_2, loss_record['dev'], c='tab:cyan', label='dev')\n",
        "    plt.ylim(0.0, 5.)\n",
        "    plt.xlabel('Training steps')\n",
        "    plt.ylabel('MSE loss')\n",
        "    plt.title('Learning curve of {}'.format(title))\n",
        "    plt.legend()\n",
        "    plt.show()\n",
        "\n",
        "\n",
        "def plot_pred(dv_set, model, device, lim=35., preds=None, targets=None):\n",
        "    ''' Plot prediction of your DNN '''\n",
        "    if preds is None or targets is None:\n",
        "        model.eval()\n",
        "        preds, targets = [], []\n",
        "        for x, y in dv_set:\n",
        "            x, y = x.to(device), y.to(device)\n",
        "            with torch.no_grad():\n",
        "                pred = model(x)\n",
        "                preds.append(pred.detach().cpu())\n",
        "                targets.append(y.detach().cpu())\n",
        "        preds = torch.cat(preds, dim=0).numpy()\n",
        "        targets = torch.cat(targets, dim=0).numpy()\n",
        "\n",
        "    figure(figsize=(5, 5))\n",
        "    plt.scatter(targets, preds, c='r', alpha=0.5)\n",
        "    plt.plot([-0.2, lim], [-0.2, lim], c='b')\n",
        "    plt.xlim(-0.2, lim)\n",
        "    plt.ylim(-0.2, lim)\n",
        "    plt.xlabel('ground truth value')\n",
        "    plt.ylabel('predicted value')\n",
        "    plt.title('Ground Truth v.s. Prediction')\n",
        "    plt.show()"
      ],
      "execution_count": 16,
      "outputs": []
    },
    {
      "cell_type": "markdown",
      "metadata": {
        "id": "39U_XFX6KOoj"
      },
      "source": [
        "# **Preprocess**\n",
        "\n",
        "We have three kinds of datasets:\n",
        "* `train`: for training\n",
        "* `dev`: for validation\n",
        "* `test`: for testing (w/o target value)"
      ]
    },
    {
      "cell_type": "markdown",
      "metadata": {
        "id": "TQ-MdwpLL7Dt"
      },
      "source": [
        "## **Dataset**\n",
        "\n",
        "The `COVID19Dataset` below does:\n",
        "* read `.csv` files\n",
        "* extract features\n",
        "* split `covid.train.csv` into train/dev sets\n",
        "* normalize features\n",
        "\n",
        "Finishing `TODO` below might make you pass medium baseline."
      ]
    },
    {
      "cell_type": "code",
      "metadata": {
        "id": "0zlpIp9ANJRU"
      },
      "source": [
        "class COVID19Dataset(Dataset):\n",
        "    ''' Dataset for loading and preprocessing the COVID19 dataset '''\n",
        "    def __init__(self,\n",
        "                 path,\n",
        "                 mode='train',\n",
        "                 target_only=False):\n",
        "        self.mode = mode\n",
        "\n",
        "        # Read data into numpy arrays\n",
        "        with open(path, 'r') as fp:\n",
        "            data = list(csv.reader(fp))\n",
        "            data = np.array(data[1:])[:, 1:].astype(float)\n",
        "\n",
        "        if not target_only:\n",
        "            feats = list(range(93))\n",
        "        else:\n",
        "            # TODO: Using 40 states & 2 tested_positive features (indices = 57 & 75)\n",
        "            pass\n",
        "\n",
        "        if mode == 'test':\n",
        "            # Testing data\n",
        "            # data: 893 x 93 (40 states + day 1 (18) + day 2 (18) + day 3 (17))\n",
        "            data = data[:, feats]\n",
        "            self.data = torch.FloatTensor(data)\n",
        "        else:\n",
        "            # Training data (train/dev sets)\n",
        "            # data: 2700 x 94 (40 states + day 1 (18) + day 2 (18) + day 3 (18))\n",
        "            target = data[:, -1]\n",
        "            data = data[:, feats]\n",
        "\n",
        "            # Splitting training data into train & dev sets\n",
        "            if mode == 'train':\n",
        "                indices = [i for i in range(len(data)) if i % 10 != 0]\n",
        "            elif mode == 'dev':\n",
        "                indices = [i for i in range(len(data)) if i % 10 == 0]\n",
        "\n",
        "            # Convert data into PyTorch tensors\n",
        "            self.data = torch.FloatTensor(data[indices])\n",
        "            self.target = torch.FloatTensor(target[indices])\n",
        "\n",
        "        # Normalize features (you may remove this part to see what will happen)\n",
        "        self.data[:, 40:] = \\\n",
        "            (self.data[:, 40:] - self.data[:, 40:].mean(dim=0, keepdim=True)) \\\n",
        "            / self.data[:, 40:].std(dim=0, keepdim=True)\n",
        "\n",
        "        self.dim = self.data.shape[1]\n",
        "\n",
        "        print('Finished reading the {} set of COVID19 Dataset ({} samples found, each dim = {})'\n",
        "              .format(mode, len(self.data), self.dim))\n",
        "\n",
        "    def __getitem__(self, index):\n",
        "        # Returns one sample at a time\n",
        "        if self.mode in ['train', 'dev']:\n",
        "            # For training\n",
        "            return self.data[index], self.target[index]\n",
        "        else:\n",
        "            # For testing (no target)\n",
        "            return self.data[index]\n",
        "\n",
        "    def __len__(self):\n",
        "        # Returns the size of the dataset\n",
        "        return len(self.data)"
      ],
      "execution_count": 5,
      "outputs": []
    },
    {
      "cell_type": "markdown",
      "metadata": {
        "id": "AlhTlkE7MDo3"
      },
      "source": [
        "## **DataLoader**\n",
        "\n",
        "A `DataLoader` loads data from a given `Dataset` into batches.\n"
      ]
    },
    {
      "cell_type": "code",
      "metadata": {
        "id": "hlhLk5t6MBX3"
      },
      "source": [
        "def prep_dataloader(path, mode, batch_size, n_jobs=0, target_only=False):\n",
        "    ''' Generates a dataset, then is put into a dataloader. '''\n",
        "    dataset = COVID19Dataset(path, mode=mode, target_only=target_only)  # Construct dataset\n",
        "    dataloader = DataLoader(\n",
        "        dataset, batch_size,\n",
        "        shuffle=(mode == 'train'), drop_last=False,\n",
        "        num_workers=n_jobs, pin_memory=True)                            # Construct dataloader\n",
        "    return dataloader"
      ],
      "execution_count": 6,
      "outputs": []
    },
    {
      "cell_type": "markdown",
      "metadata": {
        "id": "SGuycwR0MeQB"
      },
      "source": [
        "# **Deep Neural Network**\n",
        "\n",
        "`NeuralNet` is an `nn.Module` designed for regression.\n",
        "The DNN consists of 2 fully-connected layers with ReLU activation.\n",
        "This module also included a function `cal_loss` for calculating loss.\n"
      ]
    },
    {
      "cell_type": "code",
      "metadata": {
        "id": "49-uXYovOAI0"
      },
      "source": [
        "class NeuralNet(nn.Module):\n",
        "    ''' A simple fully-connected deep neural network '''\n",
        "    def __init__(self, input_dim):\n",
        "        super(NeuralNet, self).__init__()\n",
        "\n",
        "        # Define your neural network here\n",
        "        # TODO: How to modify this model to achieve better performance?\n",
        "        self.net = nn.Sequential(\n",
        "            nn.Linear(input_dim, 64),\n",
        "            nn.ReLU(),\n",
        "            nn.Linear(64, 1)\n",
        "        )\n",
        "\n",
        "        # Mean squared error loss\n",
        "        self.criterion = nn.MSELoss(reduction='mean')\n",
        "\n",
        "    def forward(self, x):\n",
        "        ''' Given input of size (batch_size x input_dim), compute output of the network '''\n",
        "        return self.net(x).squeeze(1)\n",
        "\n",
        "    def cal_loss(self, pred, target):\n",
        "        ''' Calculate loss '''\n",
        "        # TODO: you may implement L1/L2 regularization here\n",
        "        return self.criterion(pred, target)"
      ],
      "execution_count": 8,
      "outputs": []
    },
    {
      "cell_type": "markdown",
      "metadata": {
        "id": "DvFWVjZ5Nvga"
      },
      "source": [
        "# **Train/Dev/Test**"
      ]
    },
    {
      "cell_type": "markdown",
      "metadata": {
        "id": "MAM8QecJOyqn"
      },
      "source": [
        "## **Training**"
      ]
    },
    {
      "cell_type": "code",
      "metadata": {
        "id": "lOqcmYzMO7jB"
      },
      "source": [
        "def train(tr_set, dv_set, model, config, device):\n",
        "    ''' DNN training '''\n",
        "\n",
        "    n_epochs = config['n_epochs']  # Maximum number of epochs\n",
        "\n",
        "    # Setup optimizer\n",
        "    optimizer = getattr(torch.optim, config['optimizer'])(\n",
        "        model.parameters(), **config['optim_hparas'])\n",
        "\n",
        "    min_mse = 1000.\n",
        "    loss_record = {'train': [], 'dev': []}      # for recording training loss\n",
        "    early_stop_cnt = 0\n",
        "    epoch = 0\n",
        "    while epoch < n_epochs:\n",
        "        model.train()                           # set model to training mode\n",
        "        for x, y in tr_set:                     # iterate through the dataloader\n",
        "            optimizer.zero_grad()               # set gradient to zero\n",
        "            x, y = x.to(device), y.to(device)   # move data to device (cpu/cuda)\n",
        "            pred = model(x)                     # forward pass (compute output)\n",
        "            mse_loss = model.cal_loss(pred, y)  # compute loss\n",
        "            mse_loss.backward()                 # compute gradient (backpropagation)\n",
        "            optimizer.step()                    # update model with optimizer\n",
        "            loss_record['train'].append(mse_loss.detach().cpu().item())\n",
        "\n",
        "        # After each epoch, test your model on the validation (development) set.\n",
        "        dev_mse = dev(dv_set, model, device)\n",
        "        if dev_mse < min_mse:\n",
        "            # Save model if your model improved\n",
        "            min_mse = dev_mse\n",
        "            print('Saving model (epoch = {:4d}, loss = {:.4f})'\n",
        "                .format(epoch + 1, min_mse))\n",
        "            torch.save(model.state_dict(), config['save_path'])  # Save model to specified path\n",
        "            early_stop_cnt = 0\n",
        "        else:\n",
        "            early_stop_cnt += 1\n",
        "\n",
        "        epoch += 1\n",
        "        loss_record['dev'].append(dev_mse)\n",
        "        if early_stop_cnt > config['early_stop']:\n",
        "            # Stop training if your model stops improving for \"config['early_stop']\" epochs.\n",
        "            break\n",
        "\n",
        "    print('Finished training after {} epochs'.format(epoch))\n",
        "    return min_mse, loss_record"
      ],
      "execution_count": 9,
      "outputs": []
    },
    {
      "cell_type": "markdown",
      "metadata": {
        "id": "0hSd4Bn3O2PL"
      },
      "source": [
        "## **Validation**"
      ]
    },
    {
      "cell_type": "code",
      "metadata": {
        "id": "yrxrD3YsN3U2"
      },
      "source": [
        "def dev(dv_set, model, device):\n",
        "    model.eval()                                # set model to evalutation mode\n",
        "    total_loss = 0\n",
        "    for x, y in dv_set:                         # iterate through the dataloader\n",
        "        x, y = x.to(device), y.to(device)       # move data to device (cpu/cuda)\n",
        "        with torch.no_grad():                   # disable gradient calculation\n",
        "            pred = model(x)                     # forward pass (compute output)\n",
        "            mse_loss = model.cal_loss(pred, y)  # compute loss\n",
        "        total_loss += mse_loss.detach().cpu().item() * len(x)  # accumulate loss\n",
        "    total_loss = total_loss / len(dv_set.dataset)              # compute averaged loss\n",
        "\n",
        "    return total_loss"
      ],
      "execution_count": 10,
      "outputs": []
    },
    {
      "cell_type": "markdown",
      "metadata": {
        "id": "g0pdrhQAO41L"
      },
      "source": [
        "## **Testing**"
      ]
    },
    {
      "cell_type": "code",
      "metadata": {
        "id": "aSBMRFlYN5tB"
      },
      "source": [
        "def test(tt_set, model, device):\n",
        "    model.eval()                                # set model to evalutation mode\n",
        "    preds = []\n",
        "    for x in tt_set:                            # iterate through the dataloader\n",
        "        x = x.to(device)                        # move data to device (cpu/cuda)\n",
        "        with torch.no_grad():                   # disable gradient calculation\n",
        "            pred = model(x)                     # forward pass (compute output)\n",
        "            preds.append(pred.detach().cpu())   # collect prediction\n",
        "    preds = torch.cat(preds, dim=0).numpy()     # concatenate all predictions and convert to a numpy array\n",
        "    return preds"
      ],
      "execution_count": 11,
      "outputs": []
    },
    {
      "cell_type": "markdown",
      "source": [],
      "metadata": {
        "id": "dLAuZhQOw3d6"
      }
    },
    {
      "cell_type": "markdown",
      "metadata": {
        "id": "SvckkF5dvf0j"
      },
      "source": [
        "# **Setup Hyper-parameters**\n",
        "\n",
        "`config` contains hyper-parameters for training and the path to save your model."
      ]
    },
    {
      "cell_type": "code",
      "metadata": {
        "id": "NPXpdumwPjE7",
        "colab": {
          "base_uri": "https://localhost:8080/"
        },
        "outputId": "425ab8e0-da27-4c4d-bbe0-74aa8f33b908"
      },
      "source": [
        "device = get_device()                 # get the current available device ('cpu' or 'cuda')\n",
        "os.makedirs('models', exist_ok=True)  # The trained model will be saved to ./models/\n",
        "target_only = False                   # TODO: Using 40 states & 2 tested_positive features\n",
        "\n",
        "# TODO: How to tune these hyper-parameters to improve your model's performance?\n",
        "config = {\n",
        "    'n_epochs': 30000,                # maximum number of epochs\n",
        "    'batch_size': 270,               # mini-batch size for dataloader\n",
        "    'optimizer': 'SGD',              # optimization algorithm (optimizer in torch.optim)\n",
        "    'optim_hparas': {                # hyper-parameters for the optimizer (depends on which optimizer you are using)\n",
        "        'lr': 0.0001,                 # learning rate of SGD\n",
        "        'momentum': 0.9              # momentum for SGD\n",
        "    },\n",
        "    'early_stop': 200,               # early stopping epochs (the number epochs since your model's last improvement)\n",
        "    'save_path': 'models/model.pth'  # your model will be saved here\n",
        "}"
      ],
      "execution_count": 41,
      "outputs": [
        {
          "output_type": "stream",
          "name": "stdout",
          "text": [
            "cuda\n"
          ]
        }
      ]
    },
    {
      "cell_type": "markdown",
      "metadata": {
        "id": "6j1eOV3TOH-j"
      },
      "source": [
        "# **Load data and model**"
      ]
    },
    {
      "cell_type": "code",
      "metadata": {
        "colab": {
          "base_uri": "https://localhost:8080/"
        },
        "id": "eNrYBMmePLKm",
        "outputId": "e113f555-8fbe-474a-9632-ecf48f93bab2"
      },
      "source": [
        "tr_set = prep_dataloader(tr_path, 'train', config['batch_size'], target_only=target_only)\n",
        "dv_set = prep_dataloader(tr_path, 'dev', config['batch_size'], target_only=target_only)\n",
        "tt_set = prep_dataloader(tt_path, 'test', config['batch_size'], target_only=target_only)"
      ],
      "execution_count": 18,
      "outputs": [
        {
          "output_type": "stream",
          "name": "stdout",
          "text": [
            "Finished reading the train set of COVID19 Dataset (2430 samples found, each dim = 93)\n",
            "Finished reading the dev set of COVID19 Dataset (270 samples found, each dim = 93)\n",
            "Finished reading the test set of COVID19 Dataset (893 samples found, each dim = 93)\n"
          ]
        }
      ]
    },
    {
      "cell_type": "code",
      "metadata": {
        "id": "FHylSirLP9oh"
      },
      "source": [
        "model = NeuralNet(tr_set.dataset.dim).to(device)  # Construct model and move to device"
      ],
      "execution_count": 42,
      "outputs": []
    },
    {
      "cell_type": "markdown",
      "metadata": {
        "id": "sX2B_zgSOPTJ"
      },
      "source": [
        "# **Start Training!**"
      ]
    },
    {
      "cell_type": "code",
      "metadata": {
        "colab": {
          "base_uri": "https://localhost:8080/"
        },
        "id": "GrEbUxazQAAZ",
        "outputId": "5f27950f-3df9-4d0b-91a4-795a97ea69ff"
      },
      "source": [
        "model_loss, model_loss_record = train(tr_set, dv_set, model, config, device)"
      ],
      "execution_count": null,
      "outputs": [
        {
          "output_type": "stream",
          "name": "stdout",
          "text": [
            "Saving model (epoch =    1, loss = 313.3491)\n",
            "Saving model (epoch =    2, loss = 275.4472)\n",
            "Saving model (epoch =    3, loss = 211.0980)\n",
            "Saving model (epoch =    4, loss = 117.6295)\n",
            "Saving model (epoch =    5, loss = 55.8845)\n",
            "Saving model (epoch =    6, loss = 46.5822)\n",
            "Saving model (epoch =    7, loss = 32.5386)\n",
            "Saving model (epoch =    8, loss = 27.1546)\n",
            "Saving model (epoch =    9, loss = 25.7106)\n",
            "Saving model (epoch =   10, loss = 23.4758)\n",
            "Saving model (epoch =   11, loss = 21.9386)\n",
            "Saving model (epoch =   12, loss = 20.7324)\n",
            "Saving model (epoch =   13, loss = 19.6016)\n",
            "Saving model (epoch =   14, loss = 18.5625)\n",
            "Saving model (epoch =   15, loss = 17.6444)\n",
            "Saving model (epoch =   16, loss = 16.8253)\n",
            "Saving model (epoch =   17, loss = 16.0672)\n",
            "Saving model (epoch =   18, loss = 15.3448)\n",
            "Saving model (epoch =   19, loss = 14.6669)\n",
            "Saving model (epoch =   20, loss = 14.0542)\n",
            "Saving model (epoch =   21, loss = 13.4794)\n",
            "Saving model (epoch =   22, loss = 12.9372)\n",
            "Saving model (epoch =   23, loss = 12.4178)\n",
            "Saving model (epoch =   24, loss = 11.9382)\n",
            "Saving model (epoch =   25, loss = 11.5013)\n",
            "Saving model (epoch =   26, loss = 11.0787)\n",
            "Saving model (epoch =   27, loss = 10.6918)\n",
            "Saving model (epoch =   28, loss = 10.3180)\n",
            "Saving model (epoch =   29, loss = 9.9495)\n",
            "Saving model (epoch =   30, loss = 9.6163)\n",
            "Saving model (epoch =   31, loss = 9.3041)\n",
            "Saving model (epoch =   32, loss = 8.9990)\n",
            "Saving model (epoch =   33, loss = 8.7179)\n",
            "Saving model (epoch =   34, loss = 8.4480)\n",
            "Saving model (epoch =   35, loss = 8.1984)\n",
            "Saving model (epoch =   36, loss = 7.9495)\n",
            "Saving model (epoch =   37, loss = 7.7194)\n",
            "Saving model (epoch =   38, loss = 7.4968)\n",
            "Saving model (epoch =   39, loss = 7.2863)\n",
            "Saving model (epoch =   40, loss = 7.0816)\n",
            "Saving model (epoch =   41, loss = 6.8935)\n",
            "Saving model (epoch =   42, loss = 6.7092)\n",
            "Saving model (epoch =   43, loss = 6.5421)\n",
            "Saving model (epoch =   44, loss = 6.3746)\n",
            "Saving model (epoch =   45, loss = 6.2125)\n",
            "Saving model (epoch =   46, loss = 6.0528)\n",
            "Saving model (epoch =   47, loss = 5.9110)\n",
            "Saving model (epoch =   48, loss = 5.7623)\n",
            "Saving model (epoch =   49, loss = 5.6262)\n",
            "Saving model (epoch =   50, loss = 5.4937)\n",
            "Saving model (epoch =   51, loss = 5.3714)\n",
            "Saving model (epoch =   52, loss = 5.2453)\n",
            "Saving model (epoch =   53, loss = 5.1348)\n",
            "Saving model (epoch =   54, loss = 5.0227)\n",
            "Saving model (epoch =   55, loss = 4.9172)\n",
            "Saving model (epoch =   56, loss = 4.8121)\n",
            "Saving model (epoch =   57, loss = 4.7050)\n",
            "Saving model (epoch =   58, loss = 4.6060)\n",
            "Saving model (epoch =   59, loss = 4.5161)\n",
            "Saving model (epoch =   60, loss = 4.4231)\n",
            "Saving model (epoch =   61, loss = 4.3342)\n",
            "Saving model (epoch =   62, loss = 4.2517)\n",
            "Saving model (epoch =   63, loss = 4.1697)\n",
            "Saving model (epoch =   64, loss = 4.0895)\n",
            "Saving model (epoch =   65, loss = 4.0116)\n",
            "Saving model (epoch =   66, loss = 3.9375)\n",
            "Saving model (epoch =   67, loss = 3.8686)\n",
            "Saving model (epoch =   68, loss = 3.7981)\n",
            "Saving model (epoch =   69, loss = 3.7303)\n",
            "Saving model (epoch =   70, loss = 3.6680)\n",
            "Saving model (epoch =   71, loss = 3.6040)\n",
            "Saving model (epoch =   72, loss = 3.5456)\n",
            "Saving model (epoch =   73, loss = 3.4866)\n",
            "Saving model (epoch =   74, loss = 3.4307)\n",
            "Saving model (epoch =   75, loss = 3.3790)\n",
            "Saving model (epoch =   76, loss = 3.3252)\n",
            "Saving model (epoch =   77, loss = 3.2758)\n",
            "Saving model (epoch =   78, loss = 3.2268)\n",
            "Saving model (epoch =   79, loss = 3.1776)\n",
            "Saving model (epoch =   80, loss = 3.1287)\n",
            "Saving model (epoch =   81, loss = 3.0837)\n",
            "Saving model (epoch =   82, loss = 3.0398)\n",
            "Saving model (epoch =   83, loss = 3.0003)\n",
            "Saving model (epoch =   84, loss = 2.9616)\n",
            "Saving model (epoch =   85, loss = 2.9202)\n",
            "Saving model (epoch =   86, loss = 2.8785)\n",
            "Saving model (epoch =   87, loss = 2.8401)\n",
            "Saving model (epoch =   88, loss = 2.8048)\n",
            "Saving model (epoch =   89, loss = 2.7697)\n",
            "Saving model (epoch =   90, loss = 2.7394)\n",
            "Saving model (epoch =   91, loss = 2.7046)\n",
            "Saving model (epoch =   92, loss = 2.6729)\n",
            "Saving model (epoch =   93, loss = 2.6376)\n",
            "Saving model (epoch =   94, loss = 2.6073)\n",
            "Saving model (epoch =   95, loss = 2.5797)\n",
            "Saving model (epoch =   96, loss = 2.5509)\n",
            "Saving model (epoch =   97, loss = 2.5249)\n",
            "Saving model (epoch =   98, loss = 2.4969)\n",
            "Saving model (epoch =   99, loss = 2.4689)\n",
            "Saving model (epoch =  100, loss = 2.4435)\n",
            "Saving model (epoch =  101, loss = 2.4177)\n",
            "Saving model (epoch =  102, loss = 2.3928)\n",
            "Saving model (epoch =  103, loss = 2.3692)\n",
            "Saving model (epoch =  104, loss = 2.3441)\n",
            "Saving model (epoch =  105, loss = 2.3207)\n",
            "Saving model (epoch =  106, loss = 2.2975)\n",
            "Saving model (epoch =  107, loss = 2.2739)\n",
            "Saving model (epoch =  108, loss = 2.2537)\n",
            "Saving model (epoch =  109, loss = 2.2311)\n",
            "Saving model (epoch =  110, loss = 2.2119)\n",
            "Saving model (epoch =  111, loss = 2.1915)\n",
            "Saving model (epoch =  112, loss = 2.1706)\n",
            "Saving model (epoch =  113, loss = 2.1528)\n",
            "Saving model (epoch =  114, loss = 2.1334)\n",
            "Saving model (epoch =  115, loss = 2.1107)\n",
            "Saving model (epoch =  116, loss = 2.0937)\n",
            "Saving model (epoch =  117, loss = 2.0749)\n",
            "Saving model (epoch =  118, loss = 2.0564)\n",
            "Saving model (epoch =  119, loss = 2.0366)\n",
            "Saving model (epoch =  120, loss = 2.0206)\n",
            "Saving model (epoch =  121, loss = 2.0019)\n",
            "Saving model (epoch =  122, loss = 1.9834)\n",
            "Saving model (epoch =  123, loss = 1.9679)\n",
            "Saving model (epoch =  124, loss = 1.9535)\n",
            "Saving model (epoch =  125, loss = 1.9366)\n",
            "Saving model (epoch =  126, loss = 1.9191)\n",
            "Saving model (epoch =  127, loss = 1.9059)\n",
            "Saving model (epoch =  128, loss = 1.8881)\n",
            "Saving model (epoch =  129, loss = 1.8717)\n",
            "Saving model (epoch =  130, loss = 1.8556)\n",
            "Saving model (epoch =  131, loss = 1.8432)\n",
            "Saving model (epoch =  132, loss = 1.8269)\n",
            "Saving model (epoch =  133, loss = 1.8112)\n",
            "Saving model (epoch =  134, loss = 1.7962)\n",
            "Saving model (epoch =  135, loss = 1.7825)\n",
            "Saving model (epoch =  136, loss = 1.7695)\n",
            "Saving model (epoch =  137, loss = 1.7543)\n",
            "Saving model (epoch =  138, loss = 1.7399)\n",
            "Saving model (epoch =  139, loss = 1.7271)\n",
            "Saving model (epoch =  140, loss = 1.7144)\n",
            "Saving model (epoch =  141, loss = 1.7011)\n",
            "Saving model (epoch =  142, loss = 1.6903)\n",
            "Saving model (epoch =  143, loss = 1.6782)\n",
            "Saving model (epoch =  144, loss = 1.6673)\n",
            "Saving model (epoch =  145, loss = 1.6535)\n",
            "Saving model (epoch =  146, loss = 1.6407)\n",
            "Saving model (epoch =  147, loss = 1.6308)\n",
            "Saving model (epoch =  148, loss = 1.6209)\n",
            "Saving model (epoch =  149, loss = 1.6082)\n",
            "Saving model (epoch =  150, loss = 1.5995)\n",
            "Saving model (epoch =  151, loss = 1.5880)\n",
            "Saving model (epoch =  152, loss = 1.5772)\n",
            "Saving model (epoch =  153, loss = 1.5638)\n",
            "Saving model (epoch =  154, loss = 1.5532)\n",
            "Saving model (epoch =  155, loss = 1.5411)\n",
            "Saving model (epoch =  156, loss = 1.5323)\n",
            "Saving model (epoch =  157, loss = 1.5218)\n",
            "Saving model (epoch =  158, loss = 1.5106)\n",
            "Saving model (epoch =  159, loss = 1.5007)\n",
            "Saving model (epoch =  160, loss = 1.4901)\n",
            "Saving model (epoch =  161, loss = 1.4815)\n",
            "Saving model (epoch =  162, loss = 1.4755)\n",
            "Saving model (epoch =  163, loss = 1.4612)\n",
            "Saving model (epoch =  164, loss = 1.4517)\n",
            "Saving model (epoch =  165, loss = 1.4471)\n",
            "Saving model (epoch =  166, loss = 1.4380)\n",
            "Saving model (epoch =  167, loss = 1.4326)\n",
            "Saving model (epoch =  168, loss = 1.4206)\n",
            "Saving model (epoch =  169, loss = 1.4113)\n",
            "Saving model (epoch =  170, loss = 1.4041)\n",
            "Saving model (epoch =  171, loss = 1.3977)\n",
            "Saving model (epoch =  172, loss = 1.3875)\n",
            "Saving model (epoch =  173, loss = 1.3861)\n",
            "Saving model (epoch =  174, loss = 1.3786)\n",
            "Saving model (epoch =  175, loss = 1.3668)\n",
            "Saving model (epoch =  176, loss = 1.3628)\n",
            "Saving model (epoch =  177, loss = 1.3575)\n",
            "Saving model (epoch =  178, loss = 1.3499)\n",
            "Saving model (epoch =  179, loss = 1.3430)\n",
            "Saving model (epoch =  180, loss = 1.3419)\n",
            "Saving model (epoch =  181, loss = 1.3337)\n",
            "Saving model (epoch =  182, loss = 1.3250)\n",
            "Saving model (epoch =  184, loss = 1.3148)\n",
            "Saving model (epoch =  185, loss = 1.3106)\n",
            "Saving model (epoch =  186, loss = 1.3059)\n",
            "Saving model (epoch =  187, loss = 1.3044)\n",
            "Saving model (epoch =  188, loss = 1.2978)\n",
            "Saving model (epoch =  189, loss = 1.2933)\n",
            "Saving model (epoch =  190, loss = 1.2882)\n",
            "Saving model (epoch =  191, loss = 1.2822)\n",
            "Saving model (epoch =  192, loss = 1.2773)\n",
            "Saving model (epoch =  193, loss = 1.2759)\n",
            "Saving model (epoch =  194, loss = 1.2714)\n",
            "Saving model (epoch =  195, loss = 1.2647)\n",
            "Saving model (epoch =  196, loss = 1.2614)\n",
            "Saving model (epoch =  197, loss = 1.2567)\n",
            "Saving model (epoch =  198, loss = 1.2548)\n",
            "Saving model (epoch =  199, loss = 1.2536)\n",
            "Saving model (epoch =  200, loss = 1.2456)\n",
            "Saving model (epoch =  201, loss = 1.2394)\n",
            "Saving model (epoch =  202, loss = 1.2369)\n",
            "Saving model (epoch =  203, loss = 1.2344)\n",
            "Saving model (epoch =  204, loss = 1.2331)\n",
            "Saving model (epoch =  205, loss = 1.2268)\n",
            "Saving model (epoch =  206, loss = 1.2235)\n",
            "Saving model (epoch =  207, loss = 1.2208)\n",
            "Saving model (epoch =  208, loss = 1.2204)\n",
            "Saving model (epoch =  209, loss = 1.2158)\n",
            "Saving model (epoch =  210, loss = 1.2090)\n",
            "Saving model (epoch =  212, loss = 1.2035)\n",
            "Saving model (epoch =  213, loss = 1.1994)\n",
            "Saving model (epoch =  215, loss = 1.1978)\n",
            "Saving model (epoch =  216, loss = 1.1925)\n",
            "Saving model (epoch =  218, loss = 1.1892)\n",
            "Saving model (epoch =  219, loss = 1.1860)\n",
            "Saving model (epoch =  220, loss = 1.1815)\n",
            "Saving model (epoch =  223, loss = 1.1756)\n",
            "Saving model (epoch =  224, loss = 1.1755)\n",
            "Saving model (epoch =  226, loss = 1.1730)\n",
            "Saving model (epoch =  227, loss = 1.1666)\n",
            "Saving model (epoch =  228, loss = 1.1650)\n",
            "Saving model (epoch =  230, loss = 1.1617)\n",
            "Saving model (epoch =  231, loss = 1.1586)\n",
            "Saving model (epoch =  233, loss = 1.1546)\n",
            "Saving model (epoch =  236, loss = 1.1485)\n",
            "Saving model (epoch =  237, loss = 1.1484)\n",
            "Saving model (epoch =  239, loss = 1.1465)\n",
            "Saving model (epoch =  240, loss = 1.1423)\n",
            "Saving model (epoch =  241, loss = 1.1414)\n",
            "Saving model (epoch =  244, loss = 1.1347)\n",
            "Saving model (epoch =  245, loss = 1.1338)\n",
            "Saving model (epoch =  247, loss = 1.1321)\n",
            "Saving model (epoch =  248, loss = 1.1305)\n",
            "Saving model (epoch =  249, loss = 1.1295)\n",
            "Saving model (epoch =  250, loss = 1.1273)\n",
            "Saving model (epoch =  251, loss = 1.1253)\n",
            "Saving model (epoch =  252, loss = 1.1224)\n",
            "Saving model (epoch =  254, loss = 1.1198)\n",
            "Saving model (epoch =  255, loss = 1.1165)\n",
            "Saving model (epoch =  256, loss = 1.1154)\n",
            "Saving model (epoch =  259, loss = 1.1127)\n",
            "Saving model (epoch =  261, loss = 1.1114)\n",
            "Saving model (epoch =  262, loss = 1.1075)\n",
            "Saving model (epoch =  263, loss = 1.1060)\n",
            "Saving model (epoch =  266, loss = 1.1032)\n",
            "Saving model (epoch =  267, loss = 1.1003)\n",
            "Saving model (epoch =  270, loss = 1.0955)\n",
            "Saving model (epoch =  272, loss = 1.0933)\n",
            "Saving model (epoch =  275, loss = 1.0897)\n",
            "Saving model (epoch =  276, loss = 1.0879)\n",
            "Saving model (epoch =  277, loss = 1.0853)\n",
            "Saving model (epoch =  281, loss = 1.0819)\n",
            "Saving model (epoch =  283, loss = 1.0812)\n",
            "Saving model (epoch =  284, loss = 1.0794)\n",
            "Saving model (epoch =  287, loss = 1.0760)\n",
            "Saving model (epoch =  290, loss = 1.0737)\n",
            "Saving model (epoch =  291, loss = 1.0712)\n",
            "Saving model (epoch =  293, loss = 1.0676)\n",
            "Saving model (epoch =  296, loss = 1.0667)\n",
            "Saving model (epoch =  297, loss = 1.0652)\n",
            "Saving model (epoch =  299, loss = 1.0648)\n",
            "Saving model (epoch =  300, loss = 1.0630)\n",
            "Saving model (epoch =  301, loss = 1.0612)\n",
            "Saving model (epoch =  303, loss = 1.0604)\n",
            "Saving model (epoch =  304, loss = 1.0557)\n",
            "Saving model (epoch =  308, loss = 1.0549)\n",
            "Saving model (epoch =  309, loss = 1.0545)\n",
            "Saving model (epoch =  310, loss = 1.0499)\n",
            "Saving model (epoch =  313, loss = 1.0485)\n",
            "Saving model (epoch =  316, loss = 1.0468)\n",
            "Saving model (epoch =  317, loss = 1.0446)\n",
            "Saving model (epoch =  318, loss = 1.0443)\n",
            "Saving model (epoch =  319, loss = 1.0435)\n",
            "Saving model (epoch =  321, loss = 1.0394)\n",
            "Saving model (epoch =  324, loss = 1.0390)\n",
            "Saving model (epoch =  325, loss = 1.0353)\n",
            "Saving model (epoch =  329, loss = 1.0340)\n",
            "Saving model (epoch =  330, loss = 1.0337)\n",
            "Saving model (epoch =  332, loss = 1.0307)\n",
            "Saving model (epoch =  335, loss = 1.0295)\n",
            "Saving model (epoch =  336, loss = 1.0269)\n",
            "Saving model (epoch =  337, loss = 1.0262)\n",
            "Saving model (epoch =  339, loss = 1.0258)\n",
            "Saving model (epoch =  340, loss = 1.0222)\n",
            "Saving model (epoch =  343, loss = 1.0222)\n",
            "Saving model (epoch =  346, loss = 1.0191)\n",
            "Saving model (epoch =  348, loss = 1.0172)\n",
            "Saving model (epoch =  352, loss = 1.0155)\n",
            "Saving model (epoch =  355, loss = 1.0144)\n",
            "Saving model (epoch =  356, loss = 1.0125)\n",
            "Saving model (epoch =  357, loss = 1.0092)\n",
            "Saving model (epoch =  362, loss = 1.0054)\n",
            "Saving model (epoch =  369, loss = 1.0019)\n",
            "Saving model (epoch =  370, loss = 1.0017)\n",
            "Saving model (epoch =  373, loss = 0.9996)\n",
            "Saving model (epoch =  376, loss = 0.9959)\n",
            "Saving model (epoch =  379, loss = 0.9956)\n",
            "Saving model (epoch =  382, loss = 0.9945)\n",
            "Saving model (epoch =  384, loss = 0.9944)\n",
            "Saving model (epoch =  386, loss = 0.9902)\n",
            "Saving model (epoch =  387, loss = 0.9902)\n",
            "Saving model (epoch =  390, loss = 0.9896)\n",
            "Saving model (epoch =  391, loss = 0.9874)\n",
            "Saving model (epoch =  395, loss = 0.9853)\n",
            "Saving model (epoch =  400, loss = 0.9829)\n",
            "Saving model (epoch =  402, loss = 0.9817)\n",
            "Saving model (epoch =  404, loss = 0.9800)\n",
            "Saving model (epoch =  407, loss = 0.9792)\n",
            "Saving model (epoch =  408, loss = 0.9786)\n",
            "Saving model (epoch =  410, loss = 0.9781)\n",
            "Saving model (epoch =  413, loss = 0.9769)\n",
            "Saving model (epoch =  416, loss = 0.9734)\n",
            "Saving model (epoch =  417, loss = 0.9718)\n",
            "Saving model (epoch =  423, loss = 0.9713)\n",
            "Saving model (epoch =  425, loss = 0.9700)\n",
            "Saving model (epoch =  426, loss = 0.9678)\n",
            "Saving model (epoch =  431, loss = 0.9675)\n",
            "Saving model (epoch =  432, loss = 0.9659)\n",
            "Saving model (epoch =  435, loss = 0.9657)\n",
            "Saving model (epoch =  436, loss = 0.9656)\n",
            "Saving model (epoch =  438, loss = 0.9638)\n",
            "Saving model (epoch =  439, loss = 0.9630)\n",
            "Saving model (epoch =  442, loss = 0.9629)\n",
            "Saving model (epoch =  443, loss = 0.9618)\n",
            "Saving model (epoch =  444, loss = 0.9617)\n",
            "Saving model (epoch =  445, loss = 0.9578)\n",
            "Saving model (epoch =  448, loss = 0.9565)\n",
            "Saving model (epoch =  455, loss = 0.9560)\n",
            "Saving model (epoch =  456, loss = 0.9555)\n",
            "Saving model (epoch =  459, loss = 0.9545)\n",
            "Saving model (epoch =  460, loss = 0.9525)\n",
            "Saving model (epoch =  465, loss = 0.9520)\n",
            "Saving model (epoch =  466, loss = 0.9506)\n",
            "Saving model (epoch =  470, loss = 0.9504)\n",
            "Saving model (epoch =  472, loss = 0.9487)\n",
            "Saving model (epoch =  475, loss = 0.9467)\n",
            "Saving model (epoch =  479, loss = 0.9465)\n",
            "Saving model (epoch =  482, loss = 0.9439)\n",
            "Saving model (epoch =  484, loss = 0.9419)\n",
            "Saving model (epoch =  488, loss = 0.9404)\n",
            "Saving model (epoch =  491, loss = 0.9388)\n",
            "Saving model (epoch =  497, loss = 0.9369)\n",
            "Saving model (epoch =  499, loss = 0.9361)\n",
            "Saving model (epoch =  500, loss = 0.9350)\n",
            "Saving model (epoch =  503, loss = 0.9330)\n",
            "Saving model (epoch =  506, loss = 0.9322)\n",
            "Saving model (epoch =  509, loss = 0.9307)\n",
            "Saving model (epoch =  513, loss = 0.9299)\n",
            "Saving model (epoch =  516, loss = 0.9271)\n",
            "Saving model (epoch =  522, loss = 0.9260)\n",
            "Saving model (epoch =  527, loss = 0.9228)\n",
            "Saving model (epoch =  534, loss = 0.9217)\n",
            "Saving model (epoch =  536, loss = 0.9209)\n",
            "Saving model (epoch =  543, loss = 0.9174)\n",
            "Saving model (epoch =  547, loss = 0.9164)\n",
            "Saving model (epoch =  551, loss = 0.9149)\n",
            "Saving model (epoch =  556, loss = 0.9142)\n",
            "Saving model (epoch =  558, loss = 0.9140)\n",
            "Saving model (epoch =  559, loss = 0.9126)\n",
            "Saving model (epoch =  563, loss = 0.9120)\n",
            "Saving model (epoch =  566, loss = 0.9109)\n",
            "Saving model (epoch =  571, loss = 0.9076)\n",
            "Saving model (epoch =  576, loss = 0.9073)\n",
            "Saving model (epoch =  580, loss = 0.9072)\n",
            "Saving model (epoch =  582, loss = 0.9066)\n",
            "Saving model (epoch =  583, loss = 0.9057)\n",
            "Saving model (epoch =  586, loss = 0.9038)\n",
            "Saving model (epoch =  590, loss = 0.9025)\n",
            "Saving model (epoch =  595, loss = 0.9008)\n",
            "Saving model (epoch =  598, loss = 0.9008)\n",
            "Saving model (epoch =  600, loss = 0.8999)\n",
            "Saving model (epoch =  603, loss = 0.8970)\n",
            "Saving model (epoch =  615, loss = 0.8957)\n",
            "Saving model (epoch =  619, loss = 0.8948)\n",
            "Saving model (epoch =  622, loss = 0.8940)\n",
            "Saving model (epoch =  623, loss = 0.8928)\n",
            "Saving model (epoch =  625, loss = 0.8925)\n",
            "Saving model (epoch =  627, loss = 0.8920)\n",
            "Saving model (epoch =  628, loss = 0.8896)\n",
            "Saving model (epoch =  637, loss = 0.8882)\n",
            "Saving model (epoch =  638, loss = 0.8875)\n",
            "Saving model (epoch =  641, loss = 0.8848)\n",
            "Saving model (epoch =  652, loss = 0.8836)\n",
            "Saving model (epoch =  655, loss = 0.8834)\n",
            "Saving model (epoch =  658, loss = 0.8812)\n",
            "Saving model (epoch =  668, loss = 0.8797)\n",
            "Saving model (epoch =  676, loss = 0.8796)\n",
            "Saving model (epoch =  677, loss = 0.8785)\n",
            "Saving model (epoch =  683, loss = 0.8783)\n",
            "Saving model (epoch =  687, loss = 0.8766)\n",
            "Saving model (epoch =  691, loss = 0.8755)\n",
            "Saving model (epoch =  692, loss = 0.8749)\n",
            "Saving model (epoch =  696, loss = 0.8745)\n",
            "Saving model (epoch =  697, loss = 0.8742)\n",
            "Saving model (epoch =  698, loss = 0.8725)\n",
            "Saving model (epoch =  707, loss = 0.8723)\n",
            "Saving model (epoch =  712, loss = 0.8711)\n",
            "Saving model (epoch =  714, loss = 0.8710)\n",
            "Saving model (epoch =  718, loss = 0.8695)\n",
            "Saving model (epoch =  722, loss = 0.8658)\n",
            "Saving model (epoch =  731, loss = 0.8657)\n",
            "Saving model (epoch =  734, loss = 0.8655)\n",
            "Saving model (epoch =  738, loss = 0.8641)\n",
            "Saving model (epoch =  742, loss = 0.8639)\n",
            "Saving model (epoch =  746, loss = 0.8629)\n",
            "Saving model (epoch =  750, loss = 0.8619)\n",
            "Saving model (epoch =  754, loss = 0.8604)\n",
            "Saving model (epoch =  761, loss = 0.8602)\n",
            "Saving model (epoch =  765, loss = 0.8600)\n",
            "Saving model (epoch =  766, loss = 0.8590)\n",
            "Saving model (epoch =  773, loss = 0.8583)\n",
            "Saving model (epoch =  775, loss = 0.8582)\n",
            "Saving model (epoch =  778, loss = 0.8570)\n",
            "Saving model (epoch =  779, loss = 0.8567)\n",
            "Saving model (epoch =  783, loss = 0.8562)\n",
            "Saving model (epoch =  787, loss = 0.8556)\n",
            "Saving model (epoch =  792, loss = 0.8544)\n",
            "Saving model (epoch =  796, loss = 0.8531)\n",
            "Saving model (epoch =  806, loss = 0.8530)\n",
            "Saving model (epoch =  808, loss = 0.8520)\n",
            "Saving model (epoch =  815, loss = 0.8516)\n",
            "Saving model (epoch =  817, loss = 0.8513)\n",
            "Saving model (epoch =  818, loss = 0.8511)\n",
            "Saving model (epoch =  824, loss = 0.8495)\n",
            "Saving model (epoch =  832, loss = 0.8477)\n",
            "Saving model (epoch =  847, loss = 0.8455)\n",
            "Saving model (epoch =  850, loss = 0.8455)\n",
            "Saving model (epoch =  854, loss = 0.8452)\n",
            "Saving model (epoch =  861, loss = 0.8441)\n",
            "Saving model (epoch =  869, loss = 0.8437)\n",
            "Saving model (epoch =  876, loss = 0.8402)\n",
            "Saving model (epoch =  895, loss = 0.8383)\n",
            "Saving model (epoch =  913, loss = 0.8374)\n",
            "Saving model (epoch =  918, loss = 0.8370)\n",
            "Saving model (epoch =  929, loss = 0.8352)\n",
            "Saving model (epoch =  951, loss = 0.8352)\n",
            "Saving model (epoch =  952, loss = 0.8351)\n",
            "Saving model (epoch =  955, loss = 0.8344)\n",
            "Saving model (epoch =  957, loss = 0.8334)\n",
            "Saving model (epoch =  973, loss = 0.8334)\n",
            "Saving model (epoch =  976, loss = 0.8333)\n",
            "Saving model (epoch =  977, loss = 0.8320)\n",
            "Saving model (epoch =  980, loss = 0.8311)\n",
            "Saving model (epoch =  985, loss = 0.8306)\n",
            "Saving model (epoch =  995, loss = 0.8305)\n",
            "Saving model (epoch = 1000, loss = 0.8303)\n",
            "Saving model (epoch = 1009, loss = 0.8296)\n",
            "Saving model (epoch = 1016, loss = 0.8291)\n",
            "Saving model (epoch = 1017, loss = 0.8291)\n",
            "Saving model (epoch = 1023, loss = 0.8277)\n",
            "Saving model (epoch = 1041, loss = 0.8270)\n",
            "Saving model (epoch = 1044, loss = 0.8263)\n",
            "Saving model (epoch = 1055, loss = 0.8243)\n",
            "Saving model (epoch = 1068, loss = 0.8238)\n",
            "Saving model (epoch = 1069, loss = 0.8235)\n",
            "Saving model (epoch = 1078, loss = 0.8235)\n",
            "Saving model (epoch = 1084, loss = 0.8232)\n",
            "Saving model (epoch = 1094, loss = 0.8217)\n",
            "Saving model (epoch = 1096, loss = 0.8212)\n",
            "Saving model (epoch = 1114, loss = 0.8190)\n",
            "Saving model (epoch = 1146, loss = 0.8176)\n",
            "Saving model (epoch = 1164, loss = 0.8160)\n",
            "Saving model (epoch = 1189, loss = 0.8152)\n",
            "Saving model (epoch = 1196, loss = 0.8140)\n",
            "Saving model (epoch = 1212, loss = 0.8134)\n",
            "Saving model (epoch = 1225, loss = 0.8123)\n",
            "Saving model (epoch = 1233, loss = 0.8118)\n",
            "Saving model (epoch = 1237, loss = 0.8110)\n",
            "Saving model (epoch = 1255, loss = 0.8107)\n",
            "Saving model (epoch = 1258, loss = 0.8089)\n",
            "Saving model (epoch = 1277, loss = 0.8087)\n",
            "Saving model (epoch = 1278, loss = 0.8077)\n",
            "Saving model (epoch = 1288, loss = 0.8075)\n",
            "Saving model (epoch = 1299, loss = 0.8068)\n",
            "Saving model (epoch = 1318, loss = 0.8045)\n",
            "Saving model (epoch = 1330, loss = 0.8044)\n",
            "Saving model (epoch = 1352, loss = 0.8013)\n",
            "Saving model (epoch = 1372, loss = 0.8004)\n",
            "Saving model (epoch = 1394, loss = 0.8003)\n",
            "Saving model (epoch = 1400, loss = 0.8000)\n",
            "Saving model (epoch = 1415, loss = 0.7992)\n",
            "Saving model (epoch = 1420, loss = 0.7979)\n",
            "Saving model (epoch = 1432, loss = 0.7966)\n",
            "Saving model (epoch = 1478, loss = 0.7964)\n",
            "Saving model (epoch = 1500, loss = 0.7956)\n",
            "Saving model (epoch = 1519, loss = 0.7952)\n",
            "Saving model (epoch = 1523, loss = 0.7945)\n",
            "Saving model (epoch = 1535, loss = 0.7931)\n",
            "Saving model (epoch = 1542, loss = 0.7931)\n",
            "Saving model (epoch = 1571, loss = 0.7924)\n",
            "Saving model (epoch = 1590, loss = 0.7920)\n",
            "Saving model (epoch = 1607, loss = 0.7918)\n",
            "Saving model (epoch = 1619, loss = 0.7915)\n",
            "Saving model (epoch = 1622, loss = 0.7911)\n",
            "Saving model (epoch = 1632, loss = 0.7892)\n",
            "Saving model (epoch = 1665, loss = 0.7887)\n",
            "Saving model (epoch = 1682, loss = 0.7886)\n",
            "Saving model (epoch = 1687, loss = 0.7884)\n",
            "Saving model (epoch = 1703, loss = 0.7881)\n",
            "Saving model (epoch = 1720, loss = 0.7872)\n",
            "Saving model (epoch = 1757, loss = 0.7868)\n",
            "Saving model (epoch = 1798, loss = 0.7857)\n",
            "Saving model (epoch = 1831, loss = 0.7845)\n",
            "Saving model (epoch = 1898, loss = 0.7843)\n",
            "Saving model (epoch = 1908, loss = 0.7837)\n",
            "Saving model (epoch = 1917, loss = 0.7833)\n",
            "Saving model (epoch = 1920, loss = 0.7821)\n",
            "Saving model (epoch = 2004, loss = 0.7820)\n",
            "Saving model (epoch = 2014, loss = 0.7793)\n",
            "Saving model (epoch = 2071, loss = 0.7787)\n",
            "Saving model (epoch = 2112, loss = 0.7774)\n",
            "Saving model (epoch = 2206, loss = 0.7774)\n",
            "Saving model (epoch = 2220, loss = 0.7753)\n",
            "Saving model (epoch = 2289, loss = 0.7749)\n",
            "Saving model (epoch = 2303, loss = 0.7746)\n",
            "Saving model (epoch = 2321, loss = 0.7745)\n",
            "Saving model (epoch = 2399, loss = 0.7742)\n",
            "Saving model (epoch = 2418, loss = 0.7726)\n",
            "Saving model (epoch = 2473, loss = 0.7726)\n",
            "Saving model (epoch = 2504, loss = 0.7719)\n",
            "Saving model (epoch = 2525, loss = 0.7711)\n",
            "Saving model (epoch = 2561, loss = 0.7701)\n",
            "Saving model (epoch = 2664, loss = 0.7699)\n",
            "Saving model (epoch = 2689, loss = 0.7693)\n",
            "Saving model (epoch = 2710, loss = 0.7691)\n",
            "Saving model (epoch = 2725, loss = 0.7688)\n",
            "Saving model (epoch = 2763, loss = 0.7686)\n",
            "Saving model (epoch = 2789, loss = 0.7685)\n",
            "Saving model (epoch = 2798, loss = 0.7683)\n",
            "Saving model (epoch = 2815, loss = 0.7680)\n",
            "Saving model (epoch = 2853, loss = 0.7678)\n",
            "Saving model (epoch = 2906, loss = 0.7662)\n",
            "Saving model (epoch = 3001, loss = 0.7660)\n",
            "Saving model (epoch = 3069, loss = 0.7656)\n",
            "Saving model (epoch = 3181, loss = 0.7654)\n",
            "Saving model (epoch = 3275, loss = 0.7649)\n",
            "Saving model (epoch = 3284, loss = 0.7648)\n",
            "Saving model (epoch = 3312, loss = 0.7645)\n",
            "Saving model (epoch = 3376, loss = 0.7637)\n",
            "Saving model (epoch = 3432, loss = 0.7624)\n",
            "Saving model (epoch = 3482, loss = 0.7624)\n",
            "Saving model (epoch = 3516, loss = 0.7623)\n",
            "Saving model (epoch = 3560, loss = 0.7619)\n",
            "Saving model (epoch = 3569, loss = 0.7614)\n",
            "Saving model (epoch = 3583, loss = 0.7608)\n",
            "Saving model (epoch = 3590, loss = 0.7607)\n",
            "Saving model (epoch = 3612, loss = 0.7607)\n",
            "Saving model (epoch = 3615, loss = 0.7602)\n",
            "Saving model (epoch = 3737, loss = 0.7594)\n",
            "Saving model (epoch = 3802, loss = 0.7589)\n",
            "Saving model (epoch = 3814, loss = 0.7581)\n",
            "Saving model (epoch = 3941, loss = 0.7578)\n",
            "Saving model (epoch = 4042, loss = 0.7572)\n",
            "Saving model (epoch = 4062, loss = 0.7562)\n",
            "Saving model (epoch = 4185, loss = 0.7561)\n",
            "Saving model (epoch = 4284, loss = 0.7558)\n"
          ]
        }
      ]
    },
    {
      "cell_type": "code",
      "metadata": {
        "colab": {
          "base_uri": "https://localhost:8080/",
          "height": 410
        },
        "id": "hsNO9nnXQBvP",
        "outputId": "78db8f91-ca47-42e3-89d9-b92e0f09c29d"
      },
      "source": [
        "plot_learning_curve(model_loss_record, title='deep model')"
      ],
      "execution_count": 26,
      "outputs": [
        {
          "output_type": "display_data",
          "data": {
            "text/plain": [
              "<Figure size 600x400 with 1 Axes>"
            ],
            "image/png": "[encoded data removed]"
          },
          "metadata": {}
        }
      ]
    },
    {
      "cell_type": "code",
      "metadata": {
        "colab": {
          "base_uri": "https://localhost:8080/",
          "height": 542
        },
        "id": "3iZTVn5WQFpX",
        "outputId": "7244274d-5545-45af-9e6b-d0ee09d43664"
      },
      "source": [
        "del model\n",
        "model = NeuralNet(tr_set.dataset.dim).to(device)\n",
        "ckpt = torch.load(config['save_path'], map_location='cpu')  # Load your best model\n",
        "model.load_state_dict(ckpt)\n",
        "plot_pred(dv_set, model, device)  # Show prediction on the validation set"
      ],
      "execution_count": 27,
      "outputs": [
        {
          "output_type": "stream",
          "name": "stderr",
          "text": [
            "<ipython-input-27-5bebdf951c03>:3: FutureWarning: You are using `torch.load` with `weights_only=False` (the current default value), which uses the default pickle module implicitly. It is possible to construct malicious pickle data which will execute arbitrary code during unpickling (See https://github.com/pytorch/pytorch/blob/main/SECURITY.md#untrusted-models for more details). In a future release, the default value for `weights_only` will be flipped to `True`. This limits the functions that could be executed during unpickling. Arbitrary objects will no longer be allowed to be loaded via this mode unless they are explicitly allowlisted by the user via `torch.serialization.add_safe_globals`. We recommend you start setting `weights_only=True` for any use case where you don't have full control of the loaded file. Please open an issue on GitHub for any issues related to this experimental feature.\n",
            "  ckpt = torch.load(config['save_path'], map_location='cpu')  # Load your best model\n"
          ]
        },
        {
          "output_type": "display_data",
          "data": {
            "text/plain": [
              "<Figure size 500x500 with 1 Axes>"
            ],
            "image/png": "[encoded data removed]"
          },
          "metadata": {}
        }
      ]
    },
    {
      "cell_type": "markdown",
      "metadata": {
        "id": "aQikz3IPiyPf"
      },
      "source": [
        "# **Testing**\n",
        "The predictions of your model on testing set will be stored at `pred.csv`."
      ]
    },
    {
      "cell_type": "code",
      "metadata": {
        "colab": {
          "base_uri": "https://localhost:8080/"
        },
        "id": "O8cTuQjQQOon",
        "outputId": "aac05dcd-dee4-414e-bea8-08d714635ced"
      },
      "source": [
        "def save_pred(preds, file):\n",
        "    ''' Save predictions to specified file '''\n",
        "    print('Saving results to {}'.format(file))\n",
        "    with open(file, 'w') as fp:\n",
        "        writer = csv.writer(fp)\n",
        "        writer.writerow(['id', 'tested_positive'])\n",
        "        for i, p in enumerate(preds):\n",
        "            writer.writerow([i, p])\n",
        "\n",
        "preds = test(tt_set, model, device)  # predict COVID-19 cases with your model\n",
        "save_pred(preds, 'pred.csv')         # save prediction file to pred.csv"
      ],
      "execution_count": 28,
      "outputs": [
        {
          "output_type": "stream",
          "name": "stdout",
          "text": [
            "Saving results to pred.csv\n"
          ]
        }
      ]
    },
    {
      "cell_type": "markdown",
      "metadata": {
        "id": "nfrVxqJanGpE"
      },
      "source": [
        "# **Hints**\n",
        "\n",
        "## **Simple Baseline**\n",
        "* Run sample code\n",
        "\n",
        "## **Medium Baseline**\n",
        "* Feature selection: 40 states + 2 `tested_positive` (`TODO` in dataset)\n",
        "\n",
        "## **Strong Baseline**\n",
        "* Feature selection (what other features are useful?)\n",
        "* DNN architecture (layers? dimension? activation function?)\n",
        "* Training (mini-batch? optimizer? learning rate?)\n",
        "* L2 regularization\n",
        "* There are some mistakes in the sample code, can you find them?"
      ]
    },
    {
      "cell_type": "markdown",
      "metadata": {
        "id": "9tmCwXgpot3t"
      },
      "source": [
        "# **Reference**\n",
        "This code is completely written by Heng-Jui Chang @ NTUEE.  \n",
        "Copying or reusing this code is required to specify the original author.\n",
        "\n",
        "E.g.  \n",
        "Source: Heng-Jui Chang @ NTUEE (https://github.com/ga642381/ML2021-Spring/blob/main/HW01/HW01.ipynb)\n"
      ]
    }
  ]
}